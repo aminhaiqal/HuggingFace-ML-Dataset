{
 "cells": [
  {
   "cell_type": "markdown",
   "metadata": {},
   "source": [
    "# Data Collection for AI Model\n",
    "\n",
    "In this notebook, we will collect datasets related to reasoning from Hugging Face and save them in a specified directory. We will use the `datasets` library from Hugging Face to download the datasets. The datasets we will download are:\n",
    "1. [nvidia/HelpSteer2](https://huggingface.co/datasets/nvidia/HelpSteer2)\n",
    "2. [Magpie-Align/Magpie-Reasoning-150K](https://huggingface.co/datasets/Magpie-Align/Magpie-Reasoning-150K)\n",
    "3. [KingNish/reasoning-base-20k](https://huggingface.co/datasets/KingNish/reasoning-base-20k)\n",
    "3. [SkunkworksAI/reasoning-0.01](https://huggingface.co/datasets/SkunkworksAI/reasoning-0.01)"
   ]
  },
  {
   "cell_type": "code",
   "execution_count": null,
   "metadata": {},
   "outputs": [],
   "source": []
  }
 ],
 "metadata": {
  "kernelspec": {
   "display_name": "venv",
   "language": "python",
   "name": "python3"
  },
  "language_info": {
   "name": "python",
   "version": "3.11.5"
  }
 },
 "nbformat": 4,
 "nbformat_minor": 2
}
