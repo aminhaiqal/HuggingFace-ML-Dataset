{
 "cells": [
  {
   "cell_type": "markdown",
   "metadata": {},
   "source": [
    "## Data Explorer\n",
    "In this notebook, the methodology to effectively utilize the Data Explorer, an advanced tool designed for comprehensive data analysis and visualization, is outlined. The methodology encompasses the following steps:\n",
    "\n",
    "1. **Load Data**: Seamlessly import datasets from diverse sources including CSV files, databases, and APIs. The focus will be on the **Magpie-Align/Magpie-Reasoning-150K** dataset, which has already been converted into Parquet format.\n",
    "2. **Clean Data**: Efficiently manage missing values, eliminate duplicates, and perform necessary data transformations.\n",
    "3. **Explore Data**: Generate descriptive statistics, create insightful visualizations, and detect underlying patterns. Data exploration will be performed to find outliers, anomalies, missing values, and so on.\n",
    "4. **Model Data**: Implement machine learning algorithms to develop predictive models.\n",
    "5. **Share Insights**: Export analytical results and visualizations for reporting and collaborative purposes.\n"
   ]
  },
  {
   "cell_type": "markdown",
   "metadata": {},
   "source": [
    "### Step 1: Specify Dataset Path\n",
    "\n",
    "In the initial step, it is imperative to define the `dataset_path` as an argument. This path will be utilized by the `DataExplorer` class to facilitate comprehensive data exploration. The precise specification of the dataset path ensures that the data exploration process is both efficient and accurate, thereby laying a solid foundation for subsequent analytical procedures."
   ]
  },
  {
   "cell_type": "code",
   "execution_count": 18,
   "metadata": {},
   "outputs": [],
   "source": [
    "import sys\n",
    "import os\n",
    "\n",
    "sys.path.append(os.path.abspath(\"..\"))\n",
    "\n",
    "dataset_paths = [\n",
    "    os.path.abspath('../data/processed/Magpie-Align/Magpie-Reasoning-150K'),\n",
    "]"
   ]
  },
  {
   "cell_type": "markdown",
   "metadata": {},
   "source": [
    "### Step 2: Initialize Data Explorer\n",
    "Upon instantiation, the `DataExplorer` class calls the `basic_info` method. This method is designed to display fundamental information about the dataset, including:\n",
    "\n",
    "- **Dataset Shape**: The number of rows and columns.\n",
    "- **Columns**: The names of the columns.\n",
    "- **Data Types**: The data type of each column."
   ]
  },
  {
   "cell_type": "code",
   "execution_count": 19,
   "metadata": {},
   "outputs": [
    {
     "name": "stdout",
     "output_type": "stream",
     "text": [
      "Dataset 1 Shape: (150000, 17)\n",
      "Columns: ['uuid', 'instruction', 'response', 'conversations', 'gen_input_configs', 'gen_response_configs', 'intent', 'knowledge', 'difficulty', 'difficulty_generator', 'input_quality', 'quality_explanation', 'quality_generator', 'task_category', 'other_task_category', 'task_category_generator', 'language']\n",
      "Data Types:\n",
      "uuid                       object\n",
      "instruction                object\n",
      "response                   object\n",
      "conversations              object\n",
      "gen_input_configs          object\n",
      "gen_response_configs       object\n",
      "intent                     object\n",
      "knowledge                  object\n",
      "difficulty                 object\n",
      "difficulty_generator       object\n",
      "input_quality              object\n",
      "quality_explanation        object\n",
      "quality_generator          object\n",
      "task_category              object\n",
      "other_task_category        object\n",
      "task_category_generator    object\n",
      "language                   object\n",
      "dtype: object\n",
      "\n"
     ]
    }
   ],
   "source": [
    "import sys\n",
    "import os\n",
    "\n",
    "sys.path.append(os.path.abspath(\"..\"))\n",
    "from src.preprocessing.data_exporation import DataExplorer\n",
    "\n",
    "explorer = DataExplorer(dataset_paths)\n",
    "explorer.basic_info()"
   ]
  }
 ],
 "metadata": {
  "kernelspec": {
   "display_name": "venv",
   "language": "python",
   "name": "python3"
  },
  "language_info": {
   "codemirror_mode": {
    "name": "ipython",
    "version": 3
   },
   "file_extension": ".py",
   "mimetype": "text/x-python",
   "name": "python",
   "nbconvert_exporter": "python",
   "pygments_lexer": "ipython3",
   "version": "3.11.5"
  }
 },
 "nbformat": 4,
 "nbformat_minor": 2
}
